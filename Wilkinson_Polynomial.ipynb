{
 "cells": [
  {
   "cell_type": "code",
   "execution_count": 3,
   "id": "be4c511d",
   "metadata": {},
   "outputs": [],
   "source": [
    "import numpy as np\n",
    "import pandas as pd\n",
    "import math\n",
    "import matplotlib\n",
    "import matplotlib.pyplot as plt\n",
    "import matplotlib.pylab as pl\n",
    "import seaborn as sns\n",
    "matplotlib.rcParams['figure.dpi'] = 125 # figure resolution"
   ]
  },
  {
   "cell_type": "code",
   "execution_count": 4,
   "id": "0f2f3ea0",
   "metadata": {},
   "outputs": [
    {
     "name": "stdout",
     "output_type": "stream",
     "text": [
      "Roots of Wilkinson Polynomial \n",
      "\n",
      " [19.99988881 19.0011451  17.99439763 17.01653936 15.96390904 15.05398302\n",
      " 13.93519009 13.05950452 11.95943341 11.02299817  9.99057464  9.0030391\n",
      "  7.9992916   7.0001177   5.99998696  5.00000088  3.99999997  3.\n",
      "  2.          1.        ]\n"
     ]
    }
   ],
   "source": [
    "coeff = [1, -210, 20615, -1256850,  53327946, -1672280820, 40171771630, -756111184500, 11310276995381, -135585182899530,\n",
    "         1307535010540395,-10142299865511450,63030812099294896,-311333643161390640,1206647803780373360,-3599979517947607200,\n",
    "         8037811822645051776,-12870931245150988800,13803759753640704000,-8752948036761600000,2432902008176640000]\n",
    "roots = np.roots(coeff)\n",
    "print('Roots of Wilkinson Polynomial \\n\\n',roots)"
   ]
  },
  {
   "cell_type": "code",
   "execution_count": 5,
   "id": "2bc68123",
   "metadata": {},
   "outputs": [
    {
     "name": "stdout",
     "output_type": "stream",
     "text": [
      "[-210, 20615, -1256850, 53327946, -1672280820, 40171771630, -756111184500, 11310276995381, -135585182899530, 1307535010540395, -10142299865511450, 63030812099294896, -311333643161390640, 1206647803780373360, -3599979517947607200, 8037811822645051776, -12870931245150988800, 13803759753640704000, -8752948036761600000, 2432902008176640000]\n"
     ]
    }
   ],
   "source": [
    "coeff_ck = coeff[1:]\n",
    "print(coeff_ck)"
   ]
  },
  {
   "cell_type": "code",
   "execution_count": 6,
   "id": "7277c938",
   "metadata": {},
   "outputs": [],
   "source": [
    "def perturb_coeff(coeff):\n",
    "    coeff_perturbed = []\n",
    "    for i in  [3, 4, 5, 6, 7, 8]: \n",
    "            for c_k in coeff:\n",
    "                coeff_perturbed.append(c_k + pow(1/10,i))  \n",
    "    return(coeff_perturbed)\n",
    "            "
   ]
  },
  {
   "cell_type": "code",
   "execution_count": 7,
   "id": "0fdb947c",
   "metadata": {},
   "outputs": [],
   "source": [
    "def roots_perturb_coeff(perturb_coeff):\n",
    "    perturb_coeff_full = [1] + perturb_coeff\n",
    "    return np.roots(perturb_coeff_full)"
   ]
  },
  {
   "cell_type": "code",
   "execution_count": 8,
   "id": "8b743e51",
   "metadata": {},
   "outputs": [
    {
     "data": {
      "text/plain": [
       "[-209.999,\n",
       " 20615.001,\n",
       " -1256849.999,\n",
       " 53327946.001,\n",
       " -1672280819.999,\n",
       " 40171771630.001,\n",
       " -756111184499.999,\n",
       " 11310276995381.002,\n",
       " -135585182899530.0,\n",
       " 1307535010540395.0,\n",
       " -1.014229986551145e+16,\n",
       " 6.30308120992949e+16,\n",
       " -3.1133364316139066e+17,\n",
       " 1.2066478037803732e+18,\n",
       " -3.599979517947607e+18,\n",
       " 8.037811822645051e+18,\n",
       " -1.2870931245150988e+19,\n",
       " 1.3803759753640704e+19,\n",
       " -8.7529480367616e+18,\n",
       " 2.43290200817664e+18,\n",
       " -209.9999,\n",
       " 20615.0001,\n",
       " -1256849.9999,\n",
       " 53327946.0001,\n",
       " -1672280819.9999,\n",
       " 40171771630.0001,\n",
       " -756111184499.9999,\n",
       " 11310276995381.0,\n",
       " -135585182899530.0,\n",
       " 1307535010540395.0,\n",
       " -1.014229986551145e+16,\n",
       " 6.30308120992949e+16,\n",
       " -3.1133364316139066e+17,\n",
       " 1.2066478037803732e+18,\n",
       " -3.599979517947607e+18,\n",
       " 8.037811822645051e+18,\n",
       " -1.2870931245150988e+19,\n",
       " 1.3803759753640704e+19,\n",
       " -8.7529480367616e+18,\n",
       " 2.43290200817664e+18,\n",
       " -209.99999,\n",
       " 20615.00001,\n",
       " -1256849.99999,\n",
       " 53327946.00001,\n",
       " -1672280819.99999,\n",
       " 40171771630.00001,\n",
       " -756111184500.0,\n",
       " 11310276995381.0,\n",
       " -135585182899530.0,\n",
       " 1307535010540395.0,\n",
       " -1.014229986551145e+16,\n",
       " 6.30308120992949e+16,\n",
       " -3.1133364316139066e+17,\n",
       " 1.2066478037803732e+18,\n",
       " -3.599979517947607e+18,\n",
       " 8.037811822645051e+18,\n",
       " -1.2870931245150988e+19,\n",
       " 1.3803759753640704e+19,\n",
       " -8.7529480367616e+18,\n",
       " 2.43290200817664e+18,\n",
       " -209.999999,\n",
       " 20615.000001,\n",
       " -1256849.999999,\n",
       " 53327946.000001,\n",
       " -1672280819.999999,\n",
       " 40171771630.0,\n",
       " -756111184500.0,\n",
       " 11310276995381.0,\n",
       " -135585182899530.0,\n",
       " 1307535010540395.0,\n",
       " -1.014229986551145e+16,\n",
       " 6.30308120992949e+16,\n",
       " -3.1133364316139066e+17,\n",
       " 1.2066478037803732e+18,\n",
       " -3.599979517947607e+18,\n",
       " 8.037811822645051e+18,\n",
       " -1.2870931245150988e+19,\n",
       " 1.3803759753640704e+19,\n",
       " -8.7529480367616e+18,\n",
       " 2.43290200817664e+18,\n",
       " -209.9999999,\n",
       " 20615.0000001,\n",
       " -1256849.9999999,\n",
       " 53327946.0000001,\n",
       " -1672280820.0,\n",
       " 40171771630.0,\n",
       " -756111184500.0,\n",
       " 11310276995381.0,\n",
       " -135585182899530.0,\n",
       " 1307535010540395.0,\n",
       " -1.014229986551145e+16,\n",
       " 6.30308120992949e+16,\n",
       " -3.1133364316139066e+17,\n",
       " 1.2066478037803732e+18,\n",
       " -3.599979517947607e+18,\n",
       " 8.037811822645051e+18,\n",
       " -1.2870931245150988e+19,\n",
       " 1.3803759753640704e+19,\n",
       " -8.7529480367616e+18,\n",
       " 2.43290200817664e+18,\n",
       " -209.99999999,\n",
       " 20615.00000001,\n",
       " -1256849.99999999,\n",
       " 53327946.00000001,\n",
       " -1672280820.0,\n",
       " 40171771630.0,\n",
       " -756111184500.0,\n",
       " 11310276995381.0,\n",
       " -135585182899530.0,\n",
       " 1307535010540395.0,\n",
       " -1.014229986551145e+16,\n",
       " 6.30308120992949e+16,\n",
       " -3.1133364316139066e+17,\n",
       " 1.2066478037803732e+18,\n",
       " -3.599979517947607e+18,\n",
       " 8.037811822645051e+18,\n",
       " -1.2870931245150988e+19,\n",
       " 1.3803759753640704e+19,\n",
       " -8.7529480367616e+18,\n",
       " 2.43290200817664e+18]"
      ]
     },
     "execution_count": 8,
     "metadata": {},
     "output_type": "execute_result"
    }
   ],
   "source": [
    "x=perturb_coeff(coeff_ck)\n",
    "x"
   ]
  },
  {
   "cell_type": "code",
   "execution_count": 9,
   "id": "080635c6",
   "metadata": {},
   "outputs": [],
   "source": [
    "# coeffients for Wilkonson Polynomial for 10^e where e is in (3,4,5,6,7,8)\n",
    "coefficient1 = x[0:20]\n",
    "coefficient2 = x[20:40]\n",
    "coefficient3 = x[40:60]\n",
    "coefficient4 = x[60:80]\n",
    "coefficient5 = x[80:100]\n",
    "coefficient6 = x[100:120]"
   ]
  },
  {
   "cell_type": "code",
   "execution_count": 10,
   "id": "c0cce9b5",
   "metadata": {},
   "outputs": [
    {
     "data": {
      "text/plain": [
       "array([27.13763716+5.06204225j, 27.13763716-5.06204225j,\n",
       "       19.55973752+9.21541499j, 19.55973752-9.21541499j,\n",
       "       13.82507546+7.82053782j, 13.82507546-7.82053782j,\n",
       "       10.7093458 +5.50295757j, 10.7093458 -5.50295757j,\n",
       "        8.89388019+3.50842342j,  8.89388019-3.50842342j,\n",
       "        7.6695247 +1.92829311j,  7.6695247 -1.92829311j,\n",
       "        6.73182754+0.67846092j,  6.73182754-0.67846092j,\n",
       "        5.94418348+0.j        ,  5.0007627 +0.j        ,\n",
       "        3.99999709+0.j        ,  3.        +0.j        ,\n",
       "        2.        +0.j        ,  1.        +0.j        ])"
      ]
     },
     "execution_count": 10,
     "metadata": {},
     "output_type": "execute_result"
    }
   ],
   "source": [
    "roots1=roots_perturb_coeff(coefficient1)\n",
    "roots1"
   ]
  },
  {
   "cell_type": "code",
   "execution_count": 11,
   "id": "85e3513a",
   "metadata": {},
   "outputs": [],
   "source": [
    "roots2=roots_perturb_coeff(coefficient2)\n",
    "roots3=roots_perturb_coeff(coefficient3)\n",
    "roots4=roots_perturb_coeff(coefficient4)\n",
    "roots5=roots_perturb_coeff(coefficient5)\n",
    "roots6=roots_perturb_coeff(coefficient6)"
   ]
  },
  {
   "cell_type": "code",
   "execution_count": 12,
   "id": "0338c47c",
   "metadata": {},
   "outputs": [
    {
     "name": "stdout",
     "output_type": "stream",
     "text": [
      "Coefficients of Wilkinson Polynomial according to different value of epsilon \n",
      "\n",
      " epsilon = 10^-3 \n",
      " [-209.999, 20615.001, -1256849.999, 53327946.001, -1672280819.999, 40171771630.001, -756111184499.999, 11310276995381.002, -135585182899530.0, 1307535010540395.0, -1.014229986551145e+16, 6.30308120992949e+16, -3.1133364316139066e+17, 1.2066478037803732e+18, -3.599979517947607e+18, 8.037811822645051e+18, -1.2870931245150988e+19, 1.3803759753640704e+19, -8.7529480367616e+18, 2.43290200817664e+18] \n",
      "\n",
      " epsilon = 10^-4 \n",
      " [-209.9999, 20615.0001, -1256849.9999, 53327946.0001, -1672280819.9999, 40171771630.0001, -756111184499.9999, 11310276995381.0, -135585182899530.0, 1307535010540395.0, -1.014229986551145e+16, 6.30308120992949e+16, -3.1133364316139066e+17, 1.2066478037803732e+18, -3.599979517947607e+18, 8.037811822645051e+18, -1.2870931245150988e+19, 1.3803759753640704e+19, -8.7529480367616e+18, 2.43290200817664e+18] \n",
      "\n",
      " epsilon = 10^-5 \n",
      " [-209.99999, 20615.00001, -1256849.99999, 53327946.00001, -1672280819.99999, 40171771630.00001, -756111184500.0, 11310276995381.0, -135585182899530.0, 1307535010540395.0, -1.014229986551145e+16, 6.30308120992949e+16, -3.1133364316139066e+17, 1.2066478037803732e+18, -3.599979517947607e+18, 8.037811822645051e+18, -1.2870931245150988e+19, 1.3803759753640704e+19, -8.7529480367616e+18, 2.43290200817664e+18] \n",
      "\n",
      " epsilon = 10^-6 \n",
      " [-209.999999, 20615.000001, -1256849.999999, 53327946.000001, -1672280819.999999, 40171771630.0, -756111184500.0, 11310276995381.0, -135585182899530.0, 1307535010540395.0, -1.014229986551145e+16, 6.30308120992949e+16, -3.1133364316139066e+17, 1.2066478037803732e+18, -3.599979517947607e+18, 8.037811822645051e+18, -1.2870931245150988e+19, 1.3803759753640704e+19, -8.7529480367616e+18, 2.43290200817664e+18] \n",
      "\n",
      " epsilon = 10^-7 \n",
      " [-209.9999999, 20615.0000001, -1256849.9999999, 53327946.0000001, -1672280820.0, 40171771630.0, -756111184500.0, 11310276995381.0, -135585182899530.0, 1307535010540395.0, -1.014229986551145e+16, 6.30308120992949e+16, -3.1133364316139066e+17, 1.2066478037803732e+18, -3.599979517947607e+18, 8.037811822645051e+18, -1.2870931245150988e+19, 1.3803759753640704e+19, -8.7529480367616e+18, 2.43290200817664e+18] \n",
      "\n",
      " epsilon = 10^-8 \n",
      " [-209.99999999, 20615.00000001, -1256849.99999999, 53327946.00000001, -1672280820.0, 40171771630.0, -756111184500.0, 11310276995381.0, -135585182899530.0, 1307535010540395.0, -1.014229986551145e+16, 6.30308120992949e+16, -3.1133364316139066e+17, 1.2066478037803732e+18, -3.599979517947607e+18, 8.037811822645051e+18, -1.2870931245150988e+19, 1.3803759753640704e+19, -8.7529480367616e+18, 2.43290200817664e+18]\n"
     ]
    }
   ],
   "source": [
    "coefficients=print('Coefficients of Wilkinson Polynomial according to different value of epsilon','\\n\\n','epsilon = 10^-3', '\\n',\n",
    "                   coefficient1,'\\n\\n', 'epsilon = 10^-4', '\\n',coefficient2,'\\n\\n', 'epsilon = 10^-5', '\\n',coefficient3,'\\n\\n',\n",
    "                   'epsilon = 10^-6', '\\n',coefficient4,'\\n\\n', 'epsilon = 10^-7', '\\n',coefficient5,'\\n\\n', \n",
    "                   'epsilon = 10^-8', '\\n',coefficient6)"
   ]
  },
  {
   "cell_type": "code",
   "execution_count": 13,
   "id": "2d790c3c",
   "metadata": {},
   "outputs": [
    {
     "name": "stdout",
     "output_type": "stream",
     "text": [
      "Roots of Wilkinson Polynomial according to different value of epsilon \n",
      "\n",
      " epsilon = 10^-3 \n",
      " [27.13763716+5.06204225j 27.13763716-5.06204225j 19.55973752+9.21541499j\n",
      " 19.55973752-9.21541499j 13.82507546+7.82053782j 13.82507546-7.82053782j\n",
      " 10.7093458 +5.50295757j 10.7093458 -5.50295757j  8.89388019+3.50842342j\n",
      "  8.89388019-3.50842342j  7.6695247 +1.92829311j  7.6695247 -1.92829311j\n",
      "  6.73182754+0.67846092j  6.73182754-0.67846092j  5.94418348+0.j\n",
      "  5.0007627 +0.j          3.99999709+0.j          3.        +0.j\n",
      "  2.        +0.j          1.        +0.j        ] \n",
      "\n",
      " epsilon = 10^-4 \n",
      " [24.48703197+3.39204615j 24.48703197-3.39204615j 19.30730127+6.84763672j\n",
      " 19.30730127-6.84763672j 14.49654879+6.34240437j 14.49654879-6.34240437j\n",
      " 11.4387808 +4.64281209j 11.4387808 -4.64281209j  9.50678978+2.95347845j\n",
      "  9.50678978-2.95347845j  8.16375248+1.52309997j  8.16375248-1.52309997j\n",
      "  7.10309738+0.34956633j  7.10309738-0.34956633j  5.99322113+0.j\n",
      "  5.00007416+0.j          3.9999998 +0.j          3.        +0.j\n",
      "  2.        +0.j          1.        +0.j        ] \n",
      "\n",
      " epsilon = 10^-5 \n",
      " [22.6278699 +2.32212274j 22.6278699 -2.32212274j 18.91563449+5.03796866j\n",
      " 18.91563449-5.03796866j 14.91545612+4.99572809j 14.91545612-4.99572809j\n",
      " 12.02093203+3.77075695j 12.02093203-3.77075695j 10.04394243+2.36137498j\n",
      " 10.04394243-2.36137498j  8.61854986+1.08310483j  8.61854986-1.08310483j\n",
      "  7.68276873+0.j          7.03312331+0.j          5.99932252+0.j\n",
      "  5.0000057 +0.j          4.00000008+0.j          3.        +0.j\n",
      "  2.        +0.j          1.        +0.j        ] \n",
      "\n",
      " epsilon = 10^-6 \n",
      " [21.3257524 +1.57867149j 21.3257524 -1.57867149j 18.51733126+3.62767993j\n",
      " 18.51733126-3.62767993j 15.16788289+3.79398256j 15.16788289-3.79398256j\n",
      " 12.47972506+2.91490604j 12.47972506-2.91490604j 10.50903534+1.74886508j\n",
      " 10.50903534-1.74886508j  9.0277355 +0.62064995j  9.0277355 -0.62064995j\n",
      "  7.94220449+0.j          7.00292931+0.j          5.99994059+0.j\n",
      "  4.99999967+0.j          4.00000006+0.j          3.        +0.j\n",
      "  2.        +0.j          1.        +0.j        ] \n",
      "\n",
      " epsilon = 10^-7 \n",
      " [20.43794684+1.00971824j 20.43794684-1.00971824j 18.16829368+2.49388775j\n",
      " 18.16829368-2.49388775j 15.31680748+2.7276879j  15.31680748-2.7276879j\n",
      " 12.84008069+2.09163041j 12.84008069-2.09163041j 10.90895989+1.12994002j\n",
      " 10.90895989-1.12994002j  9.52689782+0.j          9.13553324+0.j\n",
      "  7.99306145+0.j          7.00034229+0.j          5.99998753+0.j\n",
      "  5.00000041+0.j          4.        +0.j          3.        +0.j\n",
      "  2.        +0.j          1.        +0.j        ] \n",
      "\n",
      " epsilon = 10^-8 \n",
      " [19.87872459+0.49513918j 19.87872459-0.49513918j 17.88451287+1.54677285j\n",
      " 17.88451287-1.54677285j 15.40332519+1.77619954j 15.40332519-1.77619954j\n",
      " 13.1226659 +1.3033446j  13.1226659 -1.3033446j  11.24181188+0.49702248j\n",
      " 11.24181188-0.49702248j  9.9291496 +0.j          9.00953309+0.j\n",
      "  7.99916528+0.j          7.00007875+0.j          5.99999177+0.j\n",
      "  5.00000069+0.j          3.99999996+0.j          3.        +0.j\n",
      "  2.        +0.j          1.        +0.j        ]\n"
     ]
    }
   ],
   "source": [
    "roots=print('Roots of Wilkinson Polynomial according to different value of epsilon','\\n\\n', 'epsilon = 10^-3', '\\n', roots1,\n",
    "            '\\n\\n', 'epsilon = 10^-4', '\\n',roots2,'\\n\\n', 'epsilon = 10^-5', '\\n',roots3,'\\n\\n', 'epsilon = 10^-6', '\\n',\n",
    "            roots4,'\\n\\n', 'epsilon = 10^-7', '\\n',roots5,'\\n\\n', 'epsilon = 10^-8', '\\n',roots6)"
   ]
  },
  {
   "cell_type": "code",
   "execution_count": 14,
   "id": "809386df",
   "metadata": {},
   "outputs": [
    {
     "data": {
      "image/png": "[encoded data removed]",
      "text/plain": [
       "<Figure size 800x600 with 1 Axes>"
      ]
     },
     "metadata": {},
     "output_type": "display_data"
    }
   ],
   "source": [
    "# extract real and imaginary part\n",
    "\n",
    "x1 = [ele.real for ele in roots1]\n",
    "y1 = [ele.imag for ele in roots1]\n",
    "x2 = [ele.real for ele in roots2]\n",
    "y2 = [ele.imag for ele in roots2]\n",
    "x3 = [ele.real for ele in roots3]\n",
    "y3 = [ele.imag for ele in roots3]\n",
    "x4 = [ele.real for ele in roots4]\n",
    "y4 = [ele.imag for ele in roots4]\n",
    "x5 = [ele.real for ele in roots5]\n",
    "y5 = [ele.imag for ele in roots5]\n",
    "x6 = [ele.real for ele in roots6]\n",
    "y6 = [ele.imag for ele in roots6]\n",
    "  \n",
    "# plot the complex numbers\n",
    "\n",
    "plt.scatter(x1, y1)\n",
    "plt.scatter(x2, y2)\n",
    "plt.scatter(x3, y3)\n",
    "plt.scatter(x4, y4)\n",
    "plt.scatter(x5, y5)\n",
    "plt.scatter(x6, y6)\n",
    "plt.ylabel('Imaginary')\n",
    "plt.xlabel('Real')\n",
    "plt.show()"
   ]
  },
  {
   "cell_type": "markdown",
   "id": "c3b22605",
   "metadata": {},
   "source": [
    "In this graph blue represents for e^-3, orange represents for e^-4 goes like that\n",
    "We can conclude that the roots are highly sensitive to perturbations applied to the coefficients and \n",
    " the real roots begin to change into complex roots\n",
    "Moreover if we decrease the epsilon value, the roots begin to close x-axis "
   ]
  },
  {
   "cell_type": "code",
   "execution_count": null,
   "id": "cb81d16e",
   "metadata": {},
   "outputs": [],
   "source": []
  }
 ],
 "metadata": {
  "kernelspec": {
   "display_name": "Python 3.11 (tensorflow)",
   "language": "python",
   "name": "tensorflow"
  },
  "language_info": {
   "codemirror_mode": {
    "name": "ipython",
    "version": 3
   },
   "file_extension": ".py",
   "mimetype": "text/x-python",
   "name": "python",
   "nbconvert_exporter": "python",
   "pygments_lexer": "ipython3",
   "version": "3.10.12"
  }
 },
 "nbformat": 4,
 "nbformat_minor": 5
}
